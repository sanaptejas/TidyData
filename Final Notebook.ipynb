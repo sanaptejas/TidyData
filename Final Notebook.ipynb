{
 "cells": [
  {
   "cell_type": "code",
   "execution_count": 1,
   "metadata": {
    "collapsed": true
   },
   "outputs": [],
   "source": [
    "import pandas as pd\n",
    "import matplotlib.pyplot as plt\n",
    "import numpy as np\n",
    "%matplotlib inline"
   ]
  },
  {
   "cell_type": "code",
   "execution_count": 2,
   "metadata": {
    "collapsed": true
   },
   "outputs": [],
   "source": [
    "data=pd.read_csv('repos/mexico-mortality-master/deaths/deaths08.csv.bz2', compression='bz2')"
   ]
  },
  {
   "cell_type": "code",
   "execution_count": 78,
   "metadata": {},
   "outputs": [
    {
     "data": {
      "text/plain": [
       "1200"
      ]
     },
     "execution_count": 78,
     "metadata": {},
     "output_type": "execute_result"
    }
   ],
   "source": [
    "data['cod'].nunique()"
   ]
  },
  {
   "cell_type": "code",
   "execution_count": 3,
   "metadata": {
    "collapsed": true
   },
   "outputs": [],
   "source": [
    "df1 = data[['age', 'sex', 'yod','mod', 'dod',\n",
    "       'hod', 'minod', 'cod', 'weight']]"
   ]
  },
  {
   "cell_type": "code",
   "execution_count": 5,
   "metadata": {},
   "outputs": [
    {
     "data": {
      "text/html": [
       "<div>\n",
       "<style>\n",
       "    .dataframe thead tr:only-child th {\n",
       "        text-align: right;\n",
       "    }\n",
       "\n",
       "    .dataframe thead th {\n",
       "        text-align: left;\n",
       "    }\n",
       "\n",
       "    .dataframe tbody tr th {\n",
       "        vertical-align: top;\n",
       "    }\n",
       "</style>\n",
       "<table border=\"1\" class=\"dataframe\">\n",
       "  <thead>\n",
       "    <tr style=\"text-align: right;\">\n",
       "      <th></th>\n",
       "      <th>age</th>\n",
       "      <th>sex</th>\n",
       "      <th>yod</th>\n",
       "      <th>mod</th>\n",
       "      <th>dod</th>\n",
       "      <th>hod</th>\n",
       "      <th>minod</th>\n",
       "      <th>cod</th>\n",
       "      <th>weight</th>\n",
       "    </tr>\n",
       "  </thead>\n",
       "  <tbody>\n",
       "    <tr>\n",
       "      <th>0</th>\n",
       "      <td>90</td>\n",
       "      <td>1</td>\n",
       "      <td>2008</td>\n",
       "      <td>1</td>\n",
       "      <td>7</td>\n",
       "      <td>20</td>\n",
       "      <td>15</td>\n",
       "      <td>F17</td>\n",
       "      <td>8888</td>\n",
       "    </tr>\n",
       "    <tr>\n",
       "      <th>1</th>\n",
       "      <td>72</td>\n",
       "      <td>1</td>\n",
       "      <td>2008</td>\n",
       "      <td>1</td>\n",
       "      <td>13</td>\n",
       "      <td>14</td>\n",
       "      <td>25</td>\n",
       "      <td>I05</td>\n",
       "      <td>8888</td>\n",
       "    </tr>\n",
       "    <tr>\n",
       "      <th>2</th>\n",
       "      <td>49</td>\n",
       "      <td>1</td>\n",
       "      <td>2008</td>\n",
       "      <td>1</td>\n",
       "      <td>12</td>\n",
       "      <td>20</td>\n",
       "      <td>40</td>\n",
       "      <td>K65</td>\n",
       "      <td>8888</td>\n",
       "    </tr>\n",
       "    <tr>\n",
       "      <th>3</th>\n",
       "      <td>79</td>\n",
       "      <td>2</td>\n",
       "      <td>2008</td>\n",
       "      <td>1</td>\n",
       "      <td>20</td>\n",
       "      <td>10</td>\n",
       "      <td>30</td>\n",
       "      <td>I38</td>\n",
       "      <td>8888</td>\n",
       "    </tr>\n",
       "    <tr>\n",
       "      <th>4</th>\n",
       "      <td>15</td>\n",
       "      <td>1</td>\n",
       "      <td>2008</td>\n",
       "      <td>1</td>\n",
       "      <td>1</td>\n",
       "      <td>15</td>\n",
       "      <td>0</td>\n",
       "      <td>N18</td>\n",
       "      <td>8888</td>\n",
       "    </tr>\n",
       "  </tbody>\n",
       "</table>\n",
       "</div>"
      ],
      "text/plain": [
       "   age  sex   yod  mod  dod  hod  minod  cod  weight\n",
       "0   90    1  2008    1    7   20     15  F17    8888\n",
       "1   72    1  2008    1   13   14     25  I05    8888\n",
       "2   49    1  2008    1   12   20     40  K65    8888\n",
       "3   79    2  2008    1   20   10     30  I38    8888\n",
       "4   15    1  2008    1    1   15      0  N18    8888"
      ]
     },
     "execution_count": 5,
     "metadata": {},
     "output_type": "execute_result"
    }
   ],
   "source": [
    "df1.head()"
   ]
  },
  {
   "cell_type": "markdown",
   "metadata": {},
   "source": [
    "# the goal is to a relationship between age groups and certain diseases"
   ]
  },
  {
   "cell_type": "markdown",
   "metadata": {},
   "source": [
    "#### first thing to do is clean the dataset"
   ]
  },
  {
   "cell_type": "code",
   "execution_count": 4,
   "metadata": {
    "collapsed": true
   },
   "outputs": [
    {
     "name": "stderr",
     "output_type": "stream",
     "text": [
      "C:\\Users\\Sanap\\Miniconda2\\envs\\py36\\lib\\site-packages\\ipykernel_launcher.py:1: SettingWithCopyWarning: \n",
      "A value is trying to be set on a copy of a slice from a DataFrame\n",
      "\n",
      "See the caveats in the documentation: http://pandas.pydata.org/pandas-docs/stable/indexing.html#indexing-view-versus-copy\n",
      "  \"\"\"Entry point for launching an IPython kernel.\n",
      "C:\\Users\\Sanap\\Miniconda2\\envs\\py36\\lib\\site-packages\\ipykernel_launcher.py:3: SettingWithCopyWarning: \n",
      "A value is trying to be set on a copy of a slice from a DataFrame\n",
      "\n",
      "See the caveats in the documentation: http://pandas.pydata.org/pandas-docs/stable/indexing.html#indexing-view-versus-copy\n",
      "  This is separate from the ipykernel package so we can avoid doing imports until\n",
      "C:\\Users\\Sanap\\Miniconda2\\envs\\py36\\lib\\site-packages\\ipykernel_launcher.py:5: SettingWithCopyWarning: \n",
      "A value is trying to be set on a copy of a slice from a DataFrame\n",
      "\n",
      "See the caveats in the documentation: http://pandas.pydata.org/pandas-docs/stable/indexing.html#indexing-view-versus-copy\n",
      "  \"\"\"\n",
      "C:\\Users\\Sanap\\Miniconda2\\envs\\py36\\lib\\site-packages\\ipykernel_launcher.py:7: SettingWithCopyWarning: \n",
      "A value is trying to be set on a copy of a slice from a DataFrame\n",
      "\n",
      "See the caveats in the documentation: http://pandas.pydata.org/pandas-docs/stable/indexing.html#indexing-view-versus-copy\n",
      "  import sys\n",
      "C:\\Users\\Sanap\\Miniconda2\\envs\\py36\\lib\\site-packages\\ipykernel_launcher.py:9: SettingWithCopyWarning: \n",
      "A value is trying to be set on a copy of a slice from a DataFrame\n",
      "\n",
      "See the caveats in the documentation: http://pandas.pydata.org/pandas-docs/stable/indexing.html#indexing-view-versus-copy\n",
      "  if __name__ == '__main__':\n",
      "C:\\Users\\Sanap\\Miniconda2\\envs\\py36\\lib\\site-packages\\ipykernel_launcher.py:11: SettingWithCopyWarning: \n",
      "A value is trying to be set on a copy of a slice from a DataFrame\n",
      "\n",
      "See the caveats in the documentation: http://pandas.pydata.org/pandas-docs/stable/indexing.html#indexing-view-versus-copy\n",
      "  # This is added back by InteractiveShellApp.init_path()\n"
     ]
    }
   ],
   "source": [
    "df1.drop( df1[ df1[ 'mod' ] == 0 ].index , inplace=True)\n",
    "\n",
    "df1.drop( df1[ df1[ 'dod' ] == 0 ].index , inplace=True)\n",
    "\n",
    "df1.drop( df1[ df1[ 'hod' ] == 0 ].index, inplace=True)\n",
    "\n",
    "df1.drop( df1[ df1[ 'hod' ] == 99 ].index, inplace=True)\n",
    "\n",
    "df1.drop( df1[ df1['weight'] == 0 ].index, inplace=True)\n",
    "\n",
    "df1.drop( df1[ df1['age'] > 99 ].index, inplace=True)"
   ]
  },
  {
   "cell_type": "code",
   "execution_count": 8,
   "metadata": {},
   "outputs": [
    {
     "data": {
      "text/plain": [
       "(507523, 9)"
      ]
     },
     "execution_count": 8,
     "metadata": {},
     "output_type": "execute_result"
    }
   ],
   "source": [
    "df1.shape"
   ]
  },
  {
   "cell_type": "code",
   "execution_count": 5,
   "metadata": {
    "collapsed": true
   },
   "outputs": [],
   "source": [
    "pure_sum=np.array(df1.groupby('age').count()['sex'])"
   ]
  },
  {
   "cell_type": "code",
   "execution_count": 6,
   "metadata": {
    "collapsed": true
   },
   "outputs": [
    {
     "data": {
      "image/png": "[encoded data removed]",
      "text/plain": [
       "<matplotlib.figure.Figure at 0x737ea50>"
      ]
     },
     "metadata": {},
     "output_type": "display_data"
    }
   ],
   "source": [
    "df1.groupby('age').count().plot(y='sex', figsize=(15,5), marker='o')\n",
    "ax = plt.gca()\n",
    "ax.set_xticks(np.arange(df1['age'].min(), df1['age'].max()+1, 10))\n",
    "plt.grid(True)"
   ]
  },
  {
   "cell_type": "code",
   "execution_count": 7,
   "metadata": {
    "collapsed": true
   },
   "outputs": [],
   "source": [
    "df2=df1.groupby(['age','cod']).count()\n",
    "\n",
    "df2.drop(['yod', 'mod', 'dod', 'hod', 'minod', 'weight'], axis=1, inplace=True)\n",
    "\n",
    "df2.rename(columns={'sex':'freq'}, inplace=True)"
   ]
  },
  {
   "cell_type": "code",
   "execution_count": 64,
   "metadata": {},
   "outputs": [
    {
     "data": {
      "text/html": [
       "<div>\n",
       "<style>\n",
       "    .dataframe thead tr:only-child th {\n",
       "        text-align: right;\n",
       "    }\n",
       "\n",
       "    .dataframe thead th {\n",
       "        text-align: left;\n",
       "    }\n",
       "\n",
       "    .dataframe tbody tr th {\n",
       "        vertical-align: top;\n",
       "    }\n",
       "</style>\n",
       "<table border=\"1\" class=\"dataframe\">\n",
       "  <thead>\n",
       "    <tr style=\"text-align: right;\">\n",
       "      <th></th>\n",
       "      <th></th>\n",
       "      <th>freq</th>\n",
       "    </tr>\n",
       "    <tr>\n",
       "      <th>age</th>\n",
       "      <th>cod</th>\n",
       "      <th></th>\n",
       "    </tr>\n",
       "  </thead>\n",
       "  <tbody>\n",
       "    <tr>\n",
       "      <th rowspan=\"5\" valign=\"top\">1</th>\n",
       "      <th>A01</th>\n",
       "      <td>2</td>\n",
       "    </tr>\n",
       "    <tr>\n",
       "      <th>A02</th>\n",
       "      <td>1</td>\n",
       "    </tr>\n",
       "    <tr>\n",
       "      <th>A04</th>\n",
       "      <td>8</td>\n",
       "    </tr>\n",
       "    <tr>\n",
       "      <th>A05</th>\n",
       "      <td>3</td>\n",
       "    </tr>\n",
       "    <tr>\n",
       "      <th>A06</th>\n",
       "      <td>2</td>\n",
       "    </tr>\n",
       "  </tbody>\n",
       "</table>\n",
       "</div>"
      ],
      "text/plain": [
       "         freq\n",
       "age cod      \n",
       "1   A01     2\n",
       "    A02     1\n",
       "    A04     8\n",
       "    A05     3\n",
       "    A06     2"
      ]
     },
     "execution_count": 64,
     "metadata": {},
     "output_type": "execute_result"
    }
   ],
   "source": [
    "df2.head()"
   ]
  },
  {
   "cell_type": "code",
   "execution_count": 8,
   "metadata": {
    "collapsed": true,
    "scrolled": true
   },
   "outputs": [],
   "source": [
    "topper_list = dict()\n",
    "age_sum = [] \n",
    "for i in df2.index.levels[0]:\n",
    "    sorted_list=df2.loc[i].freq.argsort\n",
    "    topper = df2.loc[i].iloc[sorted_list][-10:].index\n",
    "    age_sum.append(df2.loc[i].iloc[sorted_list][-10:].freq.sum())\n",
    "    topper_list.update({i:topper})"
   ]
  },
  {
   "cell_type": "code",
   "execution_count": 9,
   "metadata": {
    "collapsed": true
   },
   "outputs": [],
   "source": [
    "most_freq = pd.DataFrame(topper_list)"
   ]
  },
  {
   "cell_type": "code",
   "execution_count": 23,
   "metadata": {},
   "outputs": [
    {
     "data": {
      "text/html": [
       "<div>\n",
       "<style>\n",
       "    .dataframe thead tr:only-child th {\n",
       "        text-align: right;\n",
       "    }\n",
       "\n",
       "    .dataframe thead th {\n",
       "        text-align: left;\n",
       "    }\n",
       "\n",
       "    .dataframe tbody tr th {\n",
       "        vertical-align: top;\n",
       "    }\n",
       "</style>\n",
       "<table border=\"1\" class=\"dataframe\">\n",
       "  <thead>\n",
       "    <tr style=\"text-align: right;\">\n",
       "      <th></th>\n",
       "      <th>1</th>\n",
       "      <th>2</th>\n",
       "      <th>3</th>\n",
       "      <th>4</th>\n",
       "      <th>5</th>\n",
       "      <th>6</th>\n",
       "      <th>7</th>\n",
       "      <th>8</th>\n",
       "      <th>9</th>\n",
       "      <th>10</th>\n",
       "      <th>...</th>\n",
       "      <th>90</th>\n",
       "      <th>91</th>\n",
       "      <th>92</th>\n",
       "      <th>93</th>\n",
       "      <th>94</th>\n",
       "      <th>95</th>\n",
       "      <th>96</th>\n",
       "      <th>97</th>\n",
       "      <th>98</th>\n",
       "      <th>99</th>\n",
       "    </tr>\n",
       "  </thead>\n",
       "  <tbody>\n",
       "    <tr>\n",
       "      <th>0</th>\n",
       "      <td>J98</td>\n",
       "      <td>P24</td>\n",
       "      <td>Q89</td>\n",
       "      <td>E43</td>\n",
       "      <td>P07</td>\n",
       "      <td>Q89</td>\n",
       "      <td>J98</td>\n",
       "      <td>Q21</td>\n",
       "      <td>X59</td>\n",
       "      <td>P77</td>\n",
       "      <td>...</td>\n",
       "      <td>I10</td>\n",
       "      <td>I11</td>\n",
       "      <td>I11</td>\n",
       "      <td>I67</td>\n",
       "      <td>I11</td>\n",
       "      <td>I11</td>\n",
       "      <td>I67</td>\n",
       "      <td>Q89</td>\n",
       "      <td>I10</td>\n",
       "      <td>I11</td>\n",
       "    </tr>\n",
       "    <tr>\n",
       "      <th>1</th>\n",
       "      <td>A41</td>\n",
       "      <td>P21</td>\n",
       "      <td>P24</td>\n",
       "      <td>P24</td>\n",
       "      <td>P23</td>\n",
       "      <td>J98</td>\n",
       "      <td>P23</td>\n",
       "      <td>P23</td>\n",
       "      <td>V09</td>\n",
       "      <td>P21</td>\n",
       "      <td>...</td>\n",
       "      <td>I67</td>\n",
       "      <td>I10</td>\n",
       "      <td>I67</td>\n",
       "      <td>I10</td>\n",
       "      <td>E14</td>\n",
       "      <td>E14</td>\n",
       "      <td>E14</td>\n",
       "      <td>E11</td>\n",
       "      <td>E11</td>\n",
       "      <td>E11</td>\n",
       "    </tr>\n",
       "    <tr>\n",
       "      <th>2</th>\n",
       "      <td>P21</td>\n",
       "      <td>A09</td>\n",
       "      <td>A41</td>\n",
       "      <td>J98</td>\n",
       "      <td>J98</td>\n",
       "      <td>P23</td>\n",
       "      <td>G80</td>\n",
       "      <td>X59</td>\n",
       "      <td>C91</td>\n",
       "      <td>V09</td>\n",
       "      <td>...</td>\n",
       "      <td>R54</td>\n",
       "      <td>R54</td>\n",
       "      <td>E14</td>\n",
       "      <td>E14</td>\n",
       "      <td>E46</td>\n",
       "      <td>E11</td>\n",
       "      <td>I10</td>\n",
       "      <td>I25</td>\n",
       "      <td>I67</td>\n",
       "      <td>E43</td>\n",
       "    </tr>\n",
       "    <tr>\n",
       "      <th>3</th>\n",
       "      <td>Q89</td>\n",
       "      <td>P07</td>\n",
       "      <td>A09</td>\n",
       "      <td>P21</td>\n",
       "      <td>A41</td>\n",
       "      <td>P21</td>\n",
       "      <td>C91</td>\n",
       "      <td>G80</td>\n",
       "      <td>P21</td>\n",
       "      <td>G80</td>\n",
       "      <td>...</td>\n",
       "      <td>E14</td>\n",
       "      <td>E14</td>\n",
       "      <td>E11</td>\n",
       "      <td>E11</td>\n",
       "      <td>E11</td>\n",
       "      <td>E46</td>\n",
       "      <td>E46</td>\n",
       "      <td>E46</td>\n",
       "      <td>E46</td>\n",
       "      <td>E46</td>\n",
       "    </tr>\n",
       "    <tr>\n",
       "      <th>4</th>\n",
       "      <td>P36</td>\n",
       "      <td>J98</td>\n",
       "      <td>J98</td>\n",
       "      <td>A41</td>\n",
       "      <td>P21</td>\n",
       "      <td>C91</td>\n",
       "      <td>P21</td>\n",
       "      <td>A09</td>\n",
       "      <td>G80</td>\n",
       "      <td>J18</td>\n",
       "      <td>...</td>\n",
       "      <td>I50</td>\n",
       "      <td>I50</td>\n",
       "      <td>R54</td>\n",
       "      <td>R54</td>\n",
       "      <td>R54</td>\n",
       "      <td>I25</td>\n",
       "      <td>I25</td>\n",
       "      <td>P07</td>\n",
       "      <td>I25</td>\n",
       "      <td>I25</td>\n",
       "    </tr>\n",
       "    <tr>\n",
       "      <th>5</th>\n",
       "      <td>A09</td>\n",
       "      <td>A41</td>\n",
       "      <td>P21</td>\n",
       "      <td>A09</td>\n",
       "      <td>A09</td>\n",
       "      <td>A09</td>\n",
       "      <td>A09</td>\n",
       "      <td>C91</td>\n",
       "      <td>J18</td>\n",
       "      <td>C91</td>\n",
       "      <td>...</td>\n",
       "      <td>I25</td>\n",
       "      <td>I25</td>\n",
       "      <td>I25</td>\n",
       "      <td>I25</td>\n",
       "      <td>I25</td>\n",
       "      <td>R54</td>\n",
       "      <td>I50</td>\n",
       "      <td>R54</td>\n",
       "      <td>I50</td>\n",
       "      <td>I50</td>\n",
       "    </tr>\n",
       "    <tr>\n",
       "      <th>6</th>\n",
       "      <td>J18</td>\n",
       "      <td>P36</td>\n",
       "      <td>P36</td>\n",
       "      <td>J18</td>\n",
       "      <td>J18</td>\n",
       "      <td>J18</td>\n",
       "      <td>J18</td>\n",
       "      <td>J18</td>\n",
       "      <td>A09</td>\n",
       "      <td>A09</td>\n",
       "      <td>...</td>\n",
       "      <td>J18</td>\n",
       "      <td>E11</td>\n",
       "      <td>I50</td>\n",
       "      <td>I50</td>\n",
       "      <td>I50</td>\n",
       "      <td>I50</td>\n",
       "      <td>R54</td>\n",
       "      <td>I50</td>\n",
       "      <td>J44</td>\n",
       "      <td>R54</td>\n",
       "    </tr>\n",
       "    <tr>\n",
       "      <th>7</th>\n",
       "      <td>P07</td>\n",
       "      <td>J18</td>\n",
       "      <td>J18</td>\n",
       "      <td>P36</td>\n",
       "      <td>Q24</td>\n",
       "      <td>Q24</td>\n",
       "      <td>Q24</td>\n",
       "      <td>Q24</td>\n",
       "      <td>Q24</td>\n",
       "      <td>Q24</td>\n",
       "      <td>...</td>\n",
       "      <td>E11</td>\n",
       "      <td>J18</td>\n",
       "      <td>J18</td>\n",
       "      <td>J18</td>\n",
       "      <td>J18</td>\n",
       "      <td>J18</td>\n",
       "      <td>J44</td>\n",
       "      <td>J44</td>\n",
       "      <td>R54</td>\n",
       "      <td>J44</td>\n",
       "    </tr>\n",
       "    <tr>\n",
       "      <th>8</th>\n",
       "      <td>Q24</td>\n",
       "      <td>Q24</td>\n",
       "      <td>Q24</td>\n",
       "      <td>Q24</td>\n",
       "      <td>P36</td>\n",
       "      <td>P36</td>\n",
       "      <td>P36</td>\n",
       "      <td>P36</td>\n",
       "      <td>P22</td>\n",
       "      <td>P22</td>\n",
       "      <td>...</td>\n",
       "      <td>J44</td>\n",
       "      <td>J44</td>\n",
       "      <td>J44</td>\n",
       "      <td>J44</td>\n",
       "      <td>J44</td>\n",
       "      <td>J44</td>\n",
       "      <td>J18</td>\n",
       "      <td>J18</td>\n",
       "      <td>J18</td>\n",
       "      <td>J18</td>\n",
       "    </tr>\n",
       "    <tr>\n",
       "      <th>9</th>\n",
       "      <td>P22</td>\n",
       "      <td>P22</td>\n",
       "      <td>P22</td>\n",
       "      <td>P22</td>\n",
       "      <td>P22</td>\n",
       "      <td>P22</td>\n",
       "      <td>P22</td>\n",
       "      <td>P22</td>\n",
       "      <td>P36</td>\n",
       "      <td>P36</td>\n",
       "      <td>...</td>\n",
       "      <td>I21</td>\n",
       "      <td>I21</td>\n",
       "      <td>I21</td>\n",
       "      <td>I21</td>\n",
       "      <td>I21</td>\n",
       "      <td>I21</td>\n",
       "      <td>I21</td>\n",
       "      <td>I21</td>\n",
       "      <td>I21</td>\n",
       "      <td>I21</td>\n",
       "    </tr>\n",
       "  </tbody>\n",
       "</table>\n",
       "<p>10 rows × 99 columns</p>\n",
       "</div>"
      ],
      "text/plain": [
       "    1    2    3    4    5    6    7    8    9    10 ...    90   91   92   93  \\\n",
       "0  J98  P24  Q89  E43  P07  Q89  J98  Q21  X59  P77 ...   I10  I11  I11  I67   \n",
       "1  A41  P21  P24  P24  P23  J98  P23  P23  V09  P21 ...   I67  I10  I67  I10   \n",
       "2  P21  A09  A41  J98  J98  P23  G80  X59  C91  V09 ...   R54  R54  E14  E14   \n",
       "3  Q89  P07  A09  P21  A41  P21  C91  G80  P21  G80 ...   E14  E14  E11  E11   \n",
       "4  P36  J98  J98  A41  P21  C91  P21  A09  G80  J18 ...   I50  I50  R54  R54   \n",
       "5  A09  A41  P21  A09  A09  A09  A09  C91  J18  C91 ...   I25  I25  I25  I25   \n",
       "6  J18  P36  P36  J18  J18  J18  J18  J18  A09  A09 ...   J18  E11  I50  I50   \n",
       "7  P07  J18  J18  P36  Q24  Q24  Q24  Q24  Q24  Q24 ...   E11  J18  J18  J18   \n",
       "8  Q24  Q24  Q24  Q24  P36  P36  P36  P36  P22  P22 ...   J44  J44  J44  J44   \n",
       "9  P22  P22  P22  P22  P22  P22  P22  P22  P36  P36 ...   I21  I21  I21  I21   \n",
       "\n",
       "    94   95   96   97   98   99  \n",
       "0  I11  I11  I67  Q89  I10  I11  \n",
       "1  E14  E14  E14  E11  E11  E11  \n",
       "2  E46  E11  I10  I25  I67  E43  \n",
       "3  E11  E46  E46  E46  E46  E46  \n",
       "4  R54  I25  I25  P07  I25  I25  \n",
       "5  I25  R54  I50  R54  I50  I50  \n",
       "6  I50  I50  R54  I50  J44  R54  \n",
       "7  J18  J18  J44  J44  R54  J44  \n",
       "8  J44  J44  J18  J18  J18  J18  \n",
       "9  I21  I21  I21  I21  I21  I21  \n",
       "\n",
       "[10 rows x 99 columns]"
      ]
     },
     "execution_count": 23,
     "metadata": {},
     "output_type": "execute_result"
    }
   ],
   "source": [
    "most_freq"
   ]
  },
  {
   "cell_type": "code",
   "execution_count": 11,
   "metadata": {
    "scrolled": false
   },
   "outputs": [
    {
     "data": {
      "image/png": "[encoded data removed]",
      "text/plain": [
       "<matplotlib.figure.Figure at 0x94d8450>"
      ]
     },
     "metadata": {},
     "output_type": "display_data"
    }
   ],
   "source": [
    "pd.DataFrame({'top ten causes':age_sum, 'all causes':pure_sum}).plot(figsize=(15,8), marker='.')\n",
    "plt.xticks(np.arange(1,99,10))\n",
    "plt.show()"
   ]
  },
  {
   "cell_type": "markdown",
   "metadata": {},
   "source": [
    "##### severity scale: 0-9"
   ]
  },
  {
   "cell_type": "code",
   "execution_count": 35,
   "metadata": {
    "collapsed": true
   },
   "outputs": [],
   "source": [
    "causes = []\n",
    "for i in most_freq.index:\n",
    "    causes.extend(most_freq.loc[i])"
   ]
  },
  {
   "cell_type": "code",
   "execution_count": 36,
   "metadata": {
    "collapsed": true
   },
   "outputs": [],
   "source": [
    "sample = pd.Series(causes)"
   ]
  },
  {
   "cell_type": "code",
   "execution_count": 51,
   "metadata": {
    "scrolled": true
   },
   "outputs": [
    {
     "data": {
      "text/plain": [
       "I21    76\n",
       "E11    64\n",
       "E14    60\n",
       "K70    46\n",
       "K74    46\n",
       "X59    42\n",
       "I25    41\n",
       "J18    41\n",
       "J44    40\n",
       "X95    36\n",
       "N18    34\n",
       "V89    27\n",
       "I50    27\n",
       "X70    26\n",
       "V09    24\n",
       "C34    23\n",
       "I67    23\n",
       "B20    22\n",
       "V87    22\n",
       "C50    21\n",
       "P36    20\n",
       "Q24    17\n",
       "P22    16\n",
       "C53    15\n",
       "I61    15\n",
       "V49    12\n",
       "X99    12\n",
       "R54    12\n",
       "I11    11\n",
       "C91    11\n",
       "A09    11\n",
       "P21    10\n",
       "I10     8\n",
       "G80     8\n",
       "J98     7\n",
       "C61     7\n",
       "C16     6\n",
       "E46     6\n",
       "A41     6\n",
       "C22     5\n",
       "P23     5\n",
       "W74     5\n",
       "I64     4\n",
       "Q89     4\n",
       "P07     4\n",
       "I69     3\n",
       "P24     3\n",
       "E43     2\n",
       "P77     2\n",
       "Q21     1\n",
       "K72     1\n",
       "dtype: int64"
      ]
     },
     "execution_count": 51,
     "metadata": {},
     "output_type": "execute_result"
    }
   ],
   "source": [
    "sample.value_counts()"
   ]
  },
  {
   "cell_type": "code",
   "execution_count": 59,
   "metadata": {},
   "outputs": [
    {
     "data": {
      "image/png": "[encoded data removed]",
      "text/plain": [
       "<matplotlib.figure.Figure at 0x8d2a410>"
      ]
     },
     "metadata": {},
     "output_type": "display_data"
    }
   ],
   "source": [
    "sample.value_counts().plot(kind='bar',figsize=(22,8))\n",
    "ax=plt.gca()\n",
    "ax.set_xticks( np.arange ( len ( sample.value_counts() ) ) )\n",
    "ax.set_xticklabels(sample.value_counts().index)\n",
    "plt.xlabel('causes')\n",
    "plt.ylabel('counts')\n",
    "plt.grid(True)"
   ]
  },
  {
   "cell_type": "code",
   "execution_count": 1,
   "metadata": {},
   "outputs": [
    {
     "name": "stdout",
     "output_type": "stream",
     "text": [
      "usage: conda-script.py [-h] [-V] command ...\n",
      "\n",
      "conda is a tool for managing and deploying applications, environments and packages.\n",
      "\n",
      "Options:\n",
      "\n",
      "positional arguments:\n",
      "  command\n",
      "    info         Display information about current conda install.\n",
      "    help         Displays a list of available conda commands and their help\n",
      "                 strings.\n",
      "    list         List linked packages in a conda environment.\n",
      "    search       Search for packages and display their information. The input\n",
      "                 is a Python regular expression. To perform a search with a\n",
      "                 search string that starts with a -, separate the search from\n",
      "                 the options with --, like 'conda search -- -h'. A * in the\n",
      "                 results means that package is installed in the current\n",
      "                 environment. A . means that package is not installed but is\n",
      "                 cached in the pkgs directory.\n",
      "    create       Create a new conda environment from a list of specified\n",
      "                 packages.\n",
      "    install      Installs a list of packages into a specified conda\n",
      "                 environment.\n",
      "    update       Updates conda packages to the latest compatible version. This\n",
      "                 command accepts a list of package names and updates them to\n",
      "                 the latest versions that are compatible with all other\n",
      "                 packages in the environment. Conda attempts to install the\n",
      "                 newest versions of the requested packages. To accomplish\n",
      "                 this, it may update some packages that are already installed,\n",
      "                 or install additional packages. To prevent existing packages\n",
      "                 from updating, use the --no-update-deps option. This may\n",
      "                 force conda to install older versions of the requested\n",
      "                 packages, and it does not prevent additional dependency\n",
      "                 packages from being installed. If you wish to skip dependency\n",
      "                 checking altogether, use the '--force' option. This may\n",
      "                 result in an environment with incompatible packages, so this\n",
      "                 option must be used with great caution.\n",
      "    upgrade      Alias for conda update. See conda update --help.\n",
      "    remove       Remove a list of packages from a specified conda environment.\n",
      "    uninstall    Alias for conda remove. See conda remove --help.\n",
      "    config       Modify configuration values in .condarc. This is modeled\n",
      "                 after the git config command. Writes to the user .condarc\n",
      "                 file (C:\\Users\\Sanap\\.condarc) by default.\n",
      "    clean        Remove unused packages and caches.\n",
      "    package      Low-level conda package utility. (EXPERIMENTAL)\n",
      "\n",
      "optional arguments:\n",
      "  -h, --help     Show this help message and exit.\n",
      "  -V, --version  Show the conda version number and exit.\n"
     ]
    }
   ],
   "source": [
    "!conda"
   ]
  },
  {
   "cell_type": "code",
   "execution_count": 2,
   "metadata": {},
   "outputs": [],
   "source": [
    "!conda config --add channels conda-forge"
   ]
  },
  {
   "cell_type": "code",
   "execution_count": null,
   "metadata": {},
   "outputs": [],
   "source": []
  }
 ],
 "metadata": {
  "kernelspec": {
   "display_name": "Python 2",
   "language": "python",
   "name": "python2"
  },
  "language_info": {
   "codemirror_mode": {
    "name": "ipython",
    "version": 2
   },
   "file_extension": ".py",
   "mimetype": "text/x-python",
   "name": "python",
   "nbconvert_exporter": "python",
   "pygments_lexer": "ipython2",
   "version": "2.7.12"
  }
 },
 "nbformat": 4,
 "nbformat_minor": 2
}
